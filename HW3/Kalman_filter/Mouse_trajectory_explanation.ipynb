{
 "cells": [
  {
   "cell_type": "markdown",
   "metadata": {
    "ExecuteTime": {
     "end_time": "2019-07-17T06:03:26.432594Z",
     "start_time": "2019-07-17T06:03:26.426728Z"
    }
   },
   "source": [
    "Our goal is the smoothing the output of the mouse pointer. State vector consists of locations in the two planar coordinates  $x_1$ a $x_2$ and related velocities.\n",
    "\n",
    "$$\n",
    "x_t =\n",
    "\\begin{bmatrix}\n",
    "x_{1,t} \\\\ \n",
    "x_{2,t} \\\\ \n",
    "v_{x_1,t} \\\\ \n",
    "v_{x_2,t}\n",
    "\\end{bmatrix}\n",
    "$$\n",
    "\n",
    "Formula for the coordinate update:\n",
    "\n",
    "$$ x_{1,t} = x_{1,t-1} + v_{x_1,t} dt + w_{x_1,t}, $$\n",
    "$$ x_{2,t} = x_{2,t-1} + v_{x_2,t} dt + w_{x_2,t}. $$\n",
    "\n",
    "Formula for the velocity update, it's assumed that velocity is constant but has state noise:\n",
    "\n",
    "$$ v_{x_1,t} = v_{x_1, t-1} + w_{vx_1, t}, $$\n",
    "$$ v_{x_2,t} = v_{x_2, t-1} + w_{vx_2, t}. $$\n",
    "\n",
    "Generally\n",
    "$$\n",
    "\\begin{aligned}\n",
    "x_t &= A_t x_{t-1} + B_t u_t + w_t, \\\\\n",
    "y_t &= H_t x_t + \\varepsilon_t,\n",
    "\\end{aligned}\n",
    "$$\n",
    "\n",
    "where $x_t$ is the state, $u_t$ is the control variable, $w_t$ and $\\varepsilon_t$ are the state noise and the measurement noise, respectively, and $A_t, B_t$ and $H_t$ are corresponding matrices of compatible sizes.\n",
    "\n",
    "\n",
    "Finally we can present model in the folowing way:\n",
    "$$\n",
    "\\begin{aligned}\n",
    "x_t &\\sim \\mathcal{N}(Ax_{t-1} + Bu_t, Q),\\\\\n",
    "y_t &\\sim \\mathcal{N}(Hx_{t}, R),\n",
    "\\end{aligned}\n",
    "$$\n",
    "where where A - matrix for state, B - matrix for control parameter, Q - covariance matrix for state noise and R - covariance matrix for measurement noise.\n",
    "These matrices can be written in the following way:\n",
    "\\begin{align*}\n",
    "    A &=\n",
    "    \\begin{bmatrix}\n",
    "       1 & 0 & dt & 0 \\\\\n",
    "       0 & 1 & 0 & dt \\\\\n",
    "       0 & 0 & 1 &  0 \\\\\n",
    "       0 & 0 & 0 &  1 \n",
    "    \\end{bmatrix},\n",
    "    \\quad\n",
    "    &Q &= q\\cdot\n",
    "    \\begin{bmatrix}\n",
    "        \\frac{dt^3}{3}    & 0                 & \\frac{dt^{2}}{2}  & 0  \\\\\n",
    "        0                 & \\frac{dt^3}{3}    & 0                 & \\frac{dt^{2}}{2} \\\\\n",
    "        \\frac{dt^{2}}{2}  & 0                 & dt                & 0 \\\\\n",
    "        0                 & \\frac{dt^{2}}{2}  & 0                 & dt\n",
    "    \\end{bmatrix}\n",
    "    \\notag \\\\\n",
    "    H &=\n",
    "    \\begin{bmatrix}\n",
    "        1 & 0 &0 & 0 \\\\\n",
    "        0 & 1 &0 & 0\n",
    "    \\end{bmatrix}\n",
    "    \\quad\n",
    "    &R &=\n",
    "    r^{2}\\cdot\n",
    "    \\begin{bmatrix}\n",
    "        1 & 0 \\\\\n",
    "        0 & 1\n",
    "    \\end{bmatrix}\n",
    "\\end{align*}\n",
    "where $dt = 0.1$ - time between measurements (in second), $q = 2$, $r=3$.\n",
    "<br> There is no control parameters, so matrix B is empty.\n",
    "<br> Using above matrix we can construct Kalman filter and filter mouse pointer position. As always it works in two steps:\n",
    "<br>1) predict current position (using existing model);\n",
    "<br>2) update parameters of the existisng model."
   ]
  }
 ],
 "metadata": {
  "kernelspec": {
   "display_name": "Python 3",
   "language": "python",
   "name": "python3"
  },
  "language_info": {
   "codemirror_mode": {
    "name": "ipython",
    "version": 3
   },
   "file_extension": ".py",
   "mimetype": "text/x-python",
   "name": "python",
   "nbconvert_exporter": "python",
   "pygments_lexer": "ipython3",
   "version": "3.7.3"
  },
  "toc": {
   "base_numbering": 1,
   "nav_menu": {},
   "number_sections": true,
   "sideBar": true,
   "skip_h1_title": false,
   "title_cell": "Table of Contents",
   "title_sidebar": "Contents",
   "toc_cell": false,
   "toc_position": {},
   "toc_section_display": true,
   "toc_window_display": false
  },
  "varInspector": {
   "cols": {
    "lenName": 16,
    "lenType": 16,
    "lenVar": 40
   },
   "kernels_config": {
    "python": {
     "delete_cmd_postfix": "",
     "delete_cmd_prefix": "del ",
     "library": "var_list.py",
     "varRefreshCmd": "print(var_dic_list())"
    },
    "r": {
     "delete_cmd_postfix": ") ",
     "delete_cmd_prefix": "rm(",
     "library": "var_list.r",
     "varRefreshCmd": "cat(var_dic_list()) "
    }
   },
   "types_to_exclude": [
    "module",
    "function",
    "builtin_function_or_method",
    "instance",
    "_Feature"
   ],
   "window_display": false
  }
 },
 "nbformat": 4,
 "nbformat_minor": 2
}
