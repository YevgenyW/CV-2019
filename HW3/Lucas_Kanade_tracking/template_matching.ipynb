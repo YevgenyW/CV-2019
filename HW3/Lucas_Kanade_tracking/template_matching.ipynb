{
 "cells": [
  {
   "cell_type": "code",
   "execution_count": 1,
   "metadata": {
    "ExecuteTime": {
     "end_time": "2019-07-06T11:36:56.870517Z",
     "start_time": "2019-07-06T11:36:56.405048Z"
    }
   },
   "outputs": [],
   "source": [
    "import numpy as np\n",
    "import cv2\n",
    "from matplotlib import pyplot as plt\n",
    "import glob\n",
    "\n",
    "plt.rcParams['figure.figsize'] = (14, 4)\n",
    "plt.rcParams['image.cmap'] = 'inferno'\n",
    "\n",
    "def gray(img):\n",
    "    return cv2.cvtColor(img, cv2.COLOR_RGB2GRAY)\n",
    "\n",
    "def imread(imgpath):\n",
    "    return cv2.cvtColor(cv2.imread(imgpath), cv2.COLOR_BGR2RGB)\n",
    "\n",
    "def imshow(img, cmap=None):\n",
    "    plt.title(img.shape)\n",
    "    plt.imshow(img, cmap=cmap)\n",
    "    plt.axis('off')"
   ]
  },
  {
   "cell_type": "markdown",
   "metadata": {},
   "source": [
    "# Template matching with opencv"
   ]
  },
  {
   "cell_type": "code",
   "execution_count": 2,
   "metadata": {
    "ExecuteTime": {
     "end_time": "2019-07-06T11:36:57.050710Z",
     "start_time": "2019-07-06T11:36:56.872825Z"
    }
   },
   "outputs": [
    {
     "ename": "NameError",
     "evalue": "name 'img' is not defined",
     "output_type": "error",
     "traceback": [
      "\u001b[0;31m---------------------------------------------------------------------------\u001b[0m",
      "\u001b[0;31mNameError\u001b[0m                                 Traceback (most recent call last)",
      "\u001b[0;32m<ipython-input-2-9fef69d96330>\u001b[0m in \u001b[0;36m<module>\u001b[0;34m\u001b[0m\n\u001b[1;32m      9\u001b[0m \u001b[0;34m(\u001b[0m\u001b[0mx\u001b[0m\u001b[0;34m,\u001b[0m\u001b[0my\u001b[0m\u001b[0;34m,\u001b[0m\u001b[0mw\u001b[0m\u001b[0;34m,\u001b[0m\u001b[0mh\u001b[0m\u001b[0;34m)\u001b[0m \u001b[0;34m=\u001b[0m \u001b[0mroi_range\u001b[0m\u001b[0;34m\u001b[0m\u001b[0;34m\u001b[0m\u001b[0m\n\u001b[1;32m     10\u001b[0m \u001b[0mtemplate\u001b[0m \u001b[0;34m=\u001b[0m \u001b[0mcv2\u001b[0m\u001b[0;34m.\u001b[0m\u001b[0mimread\u001b[0m\u001b[0;34m(\u001b[0m\u001b[0mtemplate_path\u001b[0m\u001b[0;34m,\u001b[0m \u001b[0;36m0\u001b[0m\u001b[0;34m)\u001b[0m\u001b[0;34m\u001b[0m\u001b[0;34m\u001b[0m\u001b[0m\n\u001b[0;32m---> 11\u001b[0;31m \u001b[0mtemplate\u001b[0m \u001b[0;34m=\u001b[0m \u001b[0mimg\u001b[0m\u001b[0;34m[\u001b[0m\u001b[0my\u001b[0m\u001b[0;34m:\u001b[0m\u001b[0my\u001b[0m\u001b[0;34m+\u001b[0m\u001b[0mh\u001b[0m\u001b[0;34m,\u001b[0m \u001b[0mx\u001b[0m\u001b[0;34m:\u001b[0m\u001b[0mx\u001b[0m\u001b[0;34m+\u001b[0m\u001b[0mw\u001b[0m\u001b[0;34m]\u001b[0m\u001b[0;34m\u001b[0m\u001b[0;34m\u001b[0m\u001b[0m\n\u001b[0m\u001b[1;32m     12\u001b[0m \u001b[0;34m\u001b[0m\u001b[0m\n\u001b[1;32m     13\u001b[0m \u001b[0;31m# read image to find template\u001b[0m\u001b[0;34m\u001b[0m\u001b[0;34m\u001b[0m\u001b[0;34m\u001b[0m\u001b[0m\n",
      "\u001b[0;31mNameError\u001b[0m: name 'img' is not defined"
     ]
    }
   ],
   "source": [
    "# https://opencv-python-tutroals.readthedocs.io/en/latest/py_tutorials/py_imgproc/py_template_matching/py_template_matching.html\n",
    "\n",
    "# input parameters\n",
    "roi_range = (262, 94, 16, 26)\n",
    "template_path = '../mean_shift/data/Biker/img/0001.jpg'\n",
    "img_path = '../mean_shift/data/Biker/img/0001.jpg'\n",
    "\n",
    "# read template\n",
    "(x,y,w,h) = roi_range\n",
    "template = cv2.imread(template_path, 0)\n",
    "template = img[y:y+h, x:x+w]\n",
    "\n",
    "# read image to find template \n",
    "img = cv2.imread(img_path, 0)\n",
    "img2 = img.copy()\n",
    "\n",
    "# print(template)\n",
    "bottom_right = (top_left[0] + w, top_left[1] + h)\n",
    "cv2.rectangle(img,top_left, bottom_right, 255, 2)\n",
    "plt.subplot(121),plt.imshow(template, cmap = 'gray')\n",
    "plt.title('Template'), plt.xticks([]), plt.yticks([])\n",
    "plt.subplot(122),plt.imshow(img, cmap = 'gray')\n",
    "plt.title('Image with template'), plt.xticks([]), plt.yticks([])\n",
    "# plt.suptitle(meth)\n",
    "plt.show()\n",
    "\n",
    "# All the 6 methods for comparison in a list\n",
    "methods = ['cv2.TM_CCOEFF', 'cv2.TM_CCOEFF_NORMED', 'cv2.TM_CCORR',\n",
    "            'cv2.TM_CCORR_NORMED', 'cv2.TM_SQDIFF', 'cv2.TM_SQDIFF_NORMED']\n",
    "\n",
    "# methods = ['cv2.TM_SQDIFF']\n",
    "\n",
    "for meth in methods:\n",
    "    img = img2.copy()\n",
    "    method = eval(meth)\n",
    "\n",
    "    # Apply template Matching\n",
    "    res = cv2.matchTemplate(img,template,method)\n",
    "    min_val, max_val, min_loc, max_loc = cv2.minMaxLoc(res)\n",
    "\n",
    "    # If the method is TM_SQDIFF or TM_SQDIFF_NORMED, take minimum\n",
    "    if method in [cv2.TM_SQDIFF, cv2.TM_SQDIFF_NORMED]:\n",
    "        top_left = min_loc\n",
    "    else:\n",
    "        top_left = max_loc\n",
    "    bottom_right = (top_left[0] + w, top_left[1] + h)\n",
    "\n",
    "    cv2.rectangle(img,top_left, bottom_right, 255, 2)\n",
    "\n",
    "    plt.subplot(121),plt.imshow(res,cmap = 'gray')\n",
    "    plt.title('Matching Result'), plt.xticks([]), plt.yticks([])\n",
    "    plt.subplot(122),plt.imshow(img,cmap = 'gray')\n",
    "    plt.title('Detected Point'), plt.xticks([]), plt.yticks([])\n",
    "    plt.suptitle(meth)\n",
    "\n",
    "    plt.show()"
   ]
  },
  {
   "cell_type": "markdown",
   "metadata": {},
   "source": [
    "# Template matching custom implementation"
   ]
  },
  {
   "cell_type": "code",
   "execution_count": null,
   "metadata": {
    "ExecuteTime": {
     "end_time": "2019-07-06T11:36:57.053250Z",
     "start_time": "2019-07-06T11:36:56.408Z"
    }
   },
   "outputs": [],
   "source": [
    "def template_matching_ssd(src, temp):\n",
    "    h, w = src.shape\n",
    "    ht, wt = temp.shape\n",
    "   \n",
    "    res = np.empty((h-ht, w-wt))\n",
    "  \n",
    "    for dy in range(0, h - ht):\n",
    "        for dx in range(0, w - wt):\n",
    "            diff = (src[dy:dy + ht, dx:dx + wt] - temp)**2\n",
    "            res[dy, dx] = diff.sum()\n",
    "\n",
    "    return res\n",
    "\n",
    "\n",
    "def normalize(img):\n",
    "    mean = np.mean(img)\n",
    "    return (img - mean) / np.sqrt( np.sum((img - mean)**2) )\n",
    "    \n",
    "\n",
    "def template_matching_ncc(src, temp):\n",
    "    h, w = src.shape\n",
    "    ht, wt = temp.shape\n",
    "    \n",
    "    res = np.empty((h-ht, w-wt))\n",
    "\n",
    "    src = np.array(src, dtype=\"float\")\n",
    "    temp = np.array(temp, dtype=\"float\")\n",
    "    \n",
    "    temp_norm = normalize(temp)\n",
    "    \n",
    "    for dy in range(0, h - ht):\n",
    "        for dx in range(0, w - wt):\n",
    "            roi = src[dy:dy + ht, dx:dx + wt]\n",
    "            roi_norm = normalize(roi)\n",
    "            res[dy, dx] = np.sum(roi_norm * temp_norm)\n",
    "\n",
    "    return res\n",
    "\n",
    "def template_matching_sad(src, temp):\n",
    "    h, w = src.shape\n",
    "    ht, wt = temp.shape\n",
    "    \n",
    "    res = np.empty((h-ht, w-wt))\n",
    "\n",
    "    src = np.array(src, dtype=\"float\")\n",
    "    temp = np.array(temp, dtype=\"float\")\n",
    "    \n",
    "    temp_norm = normalize(temp)\n",
    "    \n",
    "    for dy in range(0, h - ht):\n",
    "        for dx in range(0, w - wt):\n",
    "            roi = src[dy:dy + ht, dx:dx + wt]\n",
    "            diff = np.abs(roi - temp)\n",
    "            res[dy, dx] = diff.sum()\n",
    "\n",
    "    return res\n",
    "\n",
    "def template_matching(img_path, template_path, template_range, method, method_name, use_max):\n",
    "    # read image\n",
    "    img = cv2.imread(img_path, 0)\n",
    "    img2 = img.copy()\n",
    "    \n",
    "    # read template\n",
    "    (x,y,w,h) = template_range\n",
    "    template = cv2.imread(template_path, 0)\n",
    "    template = img[y:y+h, x:x+w]\n",
    "\n",
    "    res = method(img, template)\n",
    "\n",
    "    min_val, max_val, min_loc, max_loc = cv2.minMaxLoc(res)\n",
    "    if use_max:\n",
    "        top_left = max_loc\n",
    "    else:\n",
    "        top_left = min_loc\n",
    "\n",
    "    bottom_right = (top_left[0] + w, top_left[1] + h)\n",
    "\n",
    "    cv2.rectangle(img,top_left, bottom_right, 255, 2)\n",
    "\n",
    "    plt.subplot(121),plt.imshow(res,cmap = 'gray')\n",
    "    plt.title('Matching Result'), plt.xticks([]), plt.yticks([])\n",
    "    plt.subplot(122),plt.imshow(img,cmap = 'gray')\n",
    "    plt.title('Detected Point'), plt.xticks([]), plt.yticks([])\n",
    "    plt.suptitle(method_name)\n",
    "\n",
    "    plt.show()\n",
    "    "
   ]
  },
  {
   "cell_type": "code",
   "execution_count": null,
   "metadata": {
    "ExecuteTime": {
     "end_time": "2019-07-06T11:36:57.054378Z",
     "start_time": "2019-07-06T11:36:56.411Z"
    }
   },
   "outputs": [],
   "source": [
    "template_matching(img_path = '../mean_shift/data/Biker/img/0001.jpg', \n",
    "                 template_path = '../mean_shift/data/Biker/img/0001.jpg',\n",
    "                 template_range = (262, 94, 16, 26),\n",
    "                 method = template_matching_ssd,\n",
    "                 method_name = 'SSD',\n",
    "                 use_max=False)\n",
    "\n",
    "template_matching(img_path = '../mean_shift/data/Biker/img/0001.jpg', \n",
    "                 template_path = '../mean_shift/data/Biker/img/0001.jpg',\n",
    "                 template_range = (262, 94, 16, 26),\n",
    "                 method = template_matching_ncc,\n",
    "                 method_name = 'NCC',\n",
    "                 use_max=True)\n",
    "\n",
    "template_matching(img_path = '../mean_shift/data/Biker/img/0001.jpg', \n",
    "                 template_path = '../mean_shift/data/Biker/img/0001.jpg',\n",
    "                 template_range = (262, 94, 16, 26),\n",
    "                 method = template_matching_sad,\n",
    "                 method_name = 'SAD',\n",
    "                 use_max=False)"
   ]
  },
  {
   "cell_type": "code",
   "execution_count": null,
   "metadata": {},
   "outputs": [],
   "source": []
  }
 ],
 "metadata": {
  "kernelspec": {
   "display_name": "Python 3",
   "language": "python",
   "name": "python3"
  },
  "language_info": {
   "codemirror_mode": {
    "name": "ipython",
    "version": 3
   },
   "file_extension": ".py",
   "mimetype": "text/x-python",
   "name": "python",
   "nbconvert_exporter": "python",
   "pygments_lexer": "ipython3",
   "version": "3.7.3"
  },
  "toc": {
   "base_numbering": 1,
   "nav_menu": {},
   "number_sections": true,
   "sideBar": true,
   "skip_h1_title": false,
   "title_cell": "Table of Contents",
   "title_sidebar": "Contents",
   "toc_cell": false,
   "toc_position": {},
   "toc_section_display": true,
   "toc_window_display": false
  },
  "varInspector": {
   "cols": {
    "lenName": 16,
    "lenType": 16,
    "lenVar": 40
   },
   "kernels_config": {
    "python": {
     "delete_cmd_postfix": "",
     "delete_cmd_prefix": "del ",
     "library": "var_list.py",
     "varRefreshCmd": "print(var_dic_list())"
    },
    "r": {
     "delete_cmd_postfix": ") ",
     "delete_cmd_prefix": "rm(",
     "library": "var_list.r",
     "varRefreshCmd": "cat(var_dic_list()) "
    }
   },
   "types_to_exclude": [
    "module",
    "function",
    "builtin_function_or_method",
    "instance",
    "_Feature"
   ],
   "window_display": false
  }
 },
 "nbformat": 4,
 "nbformat_minor": 2
}
