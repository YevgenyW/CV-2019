{
 "cells": [
  {
   "cell_type": "code",
   "execution_count": 1,
   "metadata": {
    "ExecuteTime": {
     "end_time": "2019-07-09T22:59:25.331451Z",
     "start_time": "2019-07-09T22:59:24.907380Z"
    }
   },
   "outputs": [],
   "source": [
    "import numpy as np\n",
    "import cv2\n",
    "from matplotlib import pyplot as plt\n",
    "import glob\n",
    "\n",
    "def gray(img):\n",
    "    return cv2.cvtColor(img, cv2.COLOR_RGB2GRAY)\n",
    "\n",
    "def imread(imgpath):\n",
    "    return cv2.cvtColor(cv2.imread(imgpath), cv2.COLOR_BGR2RGB)\n",
    "\n",
    "def imshow(img, cmap=None):\n",
    "    plt.title(img.shape)\n",
    "    plt.imshow(img, cmap=cmap)\n",
    "    plt.axis('off')"
   ]
  },
  {
   "cell_type": "markdown",
   "metadata": {},
   "source": [
    "# Example from opencv"
   ]
  },
  {
   "cell_type": "code",
   "execution_count": null,
   "metadata": {
    "ExecuteTime": {
     "end_time": "2019-07-09T22:59:25.499116Z",
     "start_time": "2019-07-09T22:59:25.485Z"
    }
   },
   "outputs": [],
   "source": [
    "import cv2\n",
    "import numpy as np\n",
    "\n",
    "cap = cv2.VideoCapture('slow.mp4')\n",
    "\n",
    "# Create old frame\n",
    "_, frame = cap.read()\n",
    "old_gray = cv2.cvtColor(frame, cv2.COLOR_BGR2GRAY)\n",
    "\n",
    "# Lucas kanade params\n",
    "lk_params = dict(winSize = (15, 15), \n",
    "                 maxLevel = 4, \n",
    "                 criteria = (cv2.TERM_CRITERIA_EPS | cv2.TERM_CRITERIA_COUNT, 10, 0.03))\n",
    "\n",
    "x=230; y=145; w = 40; h =20\n",
    "old_points = np.array([[x, y], [x+w, y+h]], dtype=np.float32)\n",
    "\n",
    "while True:\n",
    "    _, frame = cap.read()\n",
    "    gray_frame = cv2.cvtColor(frame, cv2.COLOR_BGR2GRAY)\n",
    "\n",
    "    new_points, status, error = cv2.calcOpticalFlowPyrLK(old_gray, gray_frame, old_points, None, **lk_params)\n",
    "    old_gray = gray_frame.copy()\n",
    "    old_points = new_points\n",
    "\n",
    "    x1, y1 = new_points[0].ravel()\n",
    "    x2, y2 = new_points[1].ravel()\n",
    "    cv2.rectangle(frame, (x1,y1), (x2,y2), 255,2)\n",
    "\n",
    "    cv2.imshow(\"Frame\", frame)\n",
    "    key = cv2.waitKey(1)\n",
    "    if key == 27:\n",
    "        break\n",
    "\n",
    "cap.release()\n",
    "cv2.destroyAllWindows()\n",
    "cv2.waitKey(1)"
   ]
  },
  {
   "cell_type": "markdown",
   "metadata": {},
   "source": [
    "# Example on the datasets"
   ]
  },
  {
   "cell_type": "code",
   "execution_count": 2,
   "metadata": {
    "ExecuteTime": {
     "end_time": "2019-07-09T22:59:26.371186Z",
     "start_time": "2019-07-09T22:59:26.361682Z"
    }
   },
   "outputs": [],
   "source": [
    "def tracking_lucas_canade(path_to_dataset, roi_range, pyrLevel = 0):\n",
    "    old_gray = imread(path_to_dataset + '/0001.jpg')\n",
    "\n",
    "    x = roi_range[0]; y = roi_range[1]; w = roi_range[2]; h = roi_range[3]\n",
    "    \n",
    "    # Lucas kanade params\n",
    "    lk_params = dict(winSize = (w, h), \n",
    "                     maxLevel = pyrLevel, \n",
    "                     criteria = (cv2.TERM_CRITERIA_EPS | cv2.TERM_CRITERIA_COUNT, 10, 0.03))\n",
    "\n",
    "    old_points = np.array([[x, y]], dtype=np.float32)\n",
    "\n",
    "    for filename in sorted(glob.glob(path_to_dataset + '/*.jpg')):\n",
    "        gray_frame = imread(filename)\n",
    "        \n",
    "        new_points, status, error = cv2.calcOpticalFlowPyrLK(old_gray, gray_frame, old_points, None, **lk_params)\n",
    "        old_gray = gray_frame.copy()\n",
    "        \n",
    "        old_points = new_points\n",
    "\n",
    "        frame = cv2.imread(filename)\n",
    "\n",
    "        x1, y1 = new_points[0].ravel()\n",
    "\n",
    "        cv2.rectangle(frame, (x1,y1), (int(x1)+w,int(y1)+h), 255,2)\n",
    "\n",
    "        cv2.imshow(\"Frame\", frame)\n",
    "        \n",
    "        key = cv2.waitKey(1)\n",
    "        if key == 27:\n",
    "            break\n",
    "\n",
    "    cv2.destroyAllWindows()\n",
    "    cv2.waitKey(1)"
   ]
  },
  {
   "cell_type": "markdown",
   "metadata": {},
   "source": [
    "# Lucas-Kanade tracking"
   ]
  },
  {
   "cell_type": "code",
   "execution_count": 3,
   "metadata": {
    "ExecuteTime": {
     "end_time": "2019-07-09T22:59:30.944311Z",
     "start_time": "2019-07-09T22:59:27.265435Z"
    }
   },
   "outputs": [],
   "source": [
    "tracking_lucas_canade(path_to_dataset = '../data/BlurBody/img/', roi_range = (400, 48, 87, 319))"
   ]
  },
  {
   "cell_type": "code",
   "execution_count": 21,
   "metadata": {
    "ExecuteTime": {
     "end_time": "2019-07-09T22:14:05.717646Z",
     "start_time": "2019-07-09T22:14:02.372142Z"
    }
   },
   "outputs": [],
   "source": [
    "tracking_lucas_canade(path_to_dataset = '../data/Biker/img/', roi_range = (262, 94, 16, 26))"
   ]
  },
  {
   "cell_type": "code",
   "execution_count": 23,
   "metadata": {
    "ExecuteTime": {
     "end_time": "2019-07-09T22:14:18.853083Z",
     "start_time": "2019-07-09T22:14:14.236666Z"
    }
   },
   "outputs": [],
   "source": [
    "tracking_lucas_canade(path_to_dataset = '../data/BlurCar2/img/', roi_range = (227,207,122,99))"
   ]
  },
  {
   "cell_type": "code",
   "execution_count": 24,
   "metadata": {
    "ExecuteTime": {
     "end_time": "2019-07-09T22:14:33.536775Z",
     "start_time": "2019-07-09T22:14:20.949118Z"
    }
   },
   "outputs": [],
   "source": [
    "tracking_lucas_canade(path_to_dataset = '../data/Bird1/img/', roi_range = (450,91,31,37))"
   ]
  },
  {
   "cell_type": "code",
   "execution_count": 26,
   "metadata": {
    "ExecuteTime": {
     "end_time": "2019-07-09T22:14:45.138288Z",
     "start_time": "2019-07-09T22:14:40.547901Z"
    }
   },
   "outputs": [],
   "source": [
    "tracking_lucas_canade('../data/Surfer/img/', (275,137,23,26))"
   ]
  },
  {
   "cell_type": "markdown",
   "metadata": {},
   "source": [
    "# Lucas-Kanade tracking with pyramidal extension"
   ]
  },
  {
   "cell_type": "code",
   "execution_count": 28,
   "metadata": {
    "ExecuteTime": {
     "end_time": "2019-07-09T22:18:35.609444Z",
     "start_time": "2019-07-09T22:18:26.365661Z"
    }
   },
   "outputs": [],
   "source": [
    "tracking_lucas_canade(path_to_dataset = '../data/BlurBody/img/', roi_range = (400, 48, 87, 319), pyrLevel=5)"
   ]
  },
  {
   "cell_type": "code",
   "execution_count": 29,
   "metadata": {
    "ExecuteTime": {
     "end_time": "2019-07-09T22:18:51.833128Z",
     "start_time": "2019-07-09T22:18:45.879856Z"
    }
   },
   "outputs": [],
   "source": [
    "tracking_lucas_canade(path_to_dataset = '../data/Biker/img/', roi_range = (262, 94, 16, 26), pyrLevel=5)"
   ]
  },
  {
   "cell_type": "code",
   "execution_count": 30,
   "metadata": {
    "ExecuteTime": {
     "end_time": "2019-07-09T22:19:23.665956Z",
     "start_time": "2019-07-09T22:19:06.126970Z"
    }
   },
   "outputs": [],
   "source": [
    "tracking_lucas_canade(path_to_dataset = '../data/BlurCar2/img/', roi_range = (227,207,122,99), pyrLevel=5)"
   ]
  },
  {
   "cell_type": "code",
   "execution_count": 31,
   "metadata": {
    "ExecuteTime": {
     "end_time": "2019-07-09T22:19:43.102597Z",
     "start_time": "2019-07-09T22:19:33.397729Z"
    }
   },
   "outputs": [],
   "source": [
    "tracking_lucas_canade(path_to_dataset = '../data/Bird1/img/', roi_range = (450,91,31,37), pyrLevel=5)"
   ]
  },
  {
   "cell_type": "code",
   "execution_count": 32,
   "metadata": {
    "ExecuteTime": {
     "end_time": "2019-07-09T22:20:00.770555Z",
     "start_time": "2019-07-09T22:19:53.589284Z"
    }
   },
   "outputs": [],
   "source": [
    "tracking_lucas_canade('../data/Surfer/img/', (275,137,23,26), pyrLevel=5)"
   ]
  }
 ],
 "metadata": {
  "kernelspec": {
   "display_name": "Python 3",
   "language": "python",
   "name": "python3"
  },
  "language_info": {
   "codemirror_mode": {
    "name": "ipython",
    "version": 3
   },
   "file_extension": ".py",
   "mimetype": "text/x-python",
   "name": "python",
   "nbconvert_exporter": "python",
   "pygments_lexer": "ipython3",
   "version": "3.7.3"
  },
  "toc": {
   "base_numbering": 1,
   "nav_menu": {},
   "number_sections": true,
   "sideBar": true,
   "skip_h1_title": false,
   "title_cell": "Table of Contents",
   "title_sidebar": "Contents",
   "toc_cell": false,
   "toc_position": {},
   "toc_section_display": true,
   "toc_window_display": false
  },
  "varInspector": {
   "cols": {
    "lenName": 16,
    "lenType": 16,
    "lenVar": 40
   },
   "kernels_config": {
    "python": {
     "delete_cmd_postfix": "",
     "delete_cmd_prefix": "del ",
     "library": "var_list.py",
     "varRefreshCmd": "print(var_dic_list())"
    },
    "r": {
     "delete_cmd_postfix": ") ",
     "delete_cmd_prefix": "rm(",
     "library": "var_list.r",
     "varRefreshCmd": "cat(var_dic_list()) "
    }
   },
   "types_to_exclude": [
    "module",
    "function",
    "builtin_function_or_method",
    "instance",
    "_Feature"
   ],
   "window_display": false
  }
 },
 "nbformat": 4,
 "nbformat_minor": 2
}
