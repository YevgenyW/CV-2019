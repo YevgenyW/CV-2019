{
 "cells": [
  {
   "cell_type": "code",
   "execution_count": 1,
   "metadata": {
    "ExecuteTime": {
     "end_time": "2019-07-08T12:31:10.273795Z",
     "start_time": "2019-07-08T12:31:09.904504Z"
    }
   },
   "outputs": [],
   "source": [
    "import numpy as np\n",
    "import cv2\n",
    "from matplotlib import pyplot as plt\n",
    "import glob\n",
    "\n",
    "def gray(img):\n",
    "    return cv2.cvtColor(img, cv2.COLOR_RGB2GRAY)\n",
    "\n",
    "def imread(imgpath):\n",
    "    return cv2.cvtColor(cv2.imread(imgpath), cv2.COLOR_BGR2RGB)\n",
    "\n",
    "def imshow(img, cmap=None):\n",
    "    plt.title(img.shape)\n",
    "    plt.imshow(img, cmap=cmap)\n",
    "    plt.axis('off')\n",
    "    \n",
    "def create_and_draw_hist(img_RGB):\n",
    "    img_HSV =  cv2.cvtColor(img_RGB, cv2.COLOR_BGR2HSV)\n",
    "    hist = cv2.calcHist([img_HSV],[0],None,[255],[0, 255])\n",
    "#     cv2.normalize(hist,hist,0,255,cv2.NORM_MINMAX)\n",
    "    plt.plot(hist)\n",
    "    plt.show()"
   ]
  },
  {
   "cell_type": "markdown",
   "metadata": {},
   "source": [
    "# Meanshift tracking"
   ]
  },
  {
   "cell_type": "code",
   "execution_count": 4,
   "metadata": {
    "ExecuteTime": {
     "end_time": "2019-07-08T12:31:32.690123Z",
     "start_time": "2019-07-08T12:31:32.669776Z"
    }
   },
   "outputs": [],
   "source": [
    "# https://www.bogotobogo.com/python/OpenCV_Python/python_opencv3_mean_shift_tracking_segmentation.php\n",
    "# https://docs.opencv.org/2.4/modules/imgproc/doc/histograms.html?highlight=calcbackproject\n",
    "# https://www.learnopencv.com/color-spaces-in-opencv-cpp-python/\n",
    "\n",
    "def tracking_mean_shift(path_to_dataset, roi_range, hue_range = (0, 255), debug = False):\n",
    "    frame = imread(path_to_dataset + '/0001.jpg')\n",
    "    (x,y,w,h) = roi_range\n",
    "    track_window = roi_range\n",
    "\n",
    "    # set up the ROI for tracking\n",
    "    roi = frame[y:y+h, x:x+w]\n",
    "\n",
    "    # convert BGR image to HSV\n",
    "    hsv_roi =  cv2.cvtColor(roi, cv2.COLOR_BGR2HSV)\n",
    "\n",
    "    # set threshold the HSV image to get certain color\n",
    "    # H – Hue ( Dominant Wavelength ).\n",
    "    # S – Saturation ( Purity / shades of the color ).\n",
    "    # V – Value ( Intensity ).\n",
    "    start_hue = hue_range[0]\n",
    "    end_hue = hue_range[1]\n",
    "    mask = cv2.inRange(hsv_roi, np.array((start_hue, 60.,32.)), np.array((end_hue,255.,255.)))\n",
    "    \n",
    "    # images : it is the source image of type uint8 or float32. it should be given in square brackets, ie, \"[img]\".\n",
    "    # channels : it is also given in square brackets. It is the index of channel for which we calculate histogram. \n",
    "    #            For example, if input is grayscale image, its value is [0]. For color image, you can pass [0], [1] or [2] \n",
    "    #            to calculate histogram of blue, green or red channel respectively.\n",
    "    # mask : mask image. To find histogram of full image, it is given as \"None\". But if you want to find histogram \n",
    "    #        of particular region of image, you have to create a mask image for that and give it as mask.\n",
    "    # histSize : this represents our BIN count. Need to be given in square brackets. For full scale, we pass [256].\n",
    "    # ranges : this is our RANGE. Normally, it is [0,256].\n",
    "    roi_hist = cv2.calcHist([hsv_roi],[0],None,[end_hue-start_hue],[start_hue, end_hue])\n",
    "    \n",
    "    # src – input array.\n",
    "    # dst – output array of the same size as src .\n",
    "    # alpha – norm value to normalize to or the lower range boundary in case of the range normalization.\n",
    "    # beta – upper range boundary in case of the range normalization; it is not used for the norm normalization.\n",
    "    # normType – normalization type (see the details below).\n",
    "    # dtype – when negative, the output array has the same type as src; otherwise, it has the same number of channels as src and the depth =CV_MAT_DEPTH(dtype).\n",
    "    # mask – optional operation mask.\n",
    "    cv2.normalize(roi_hist,roi_hist,0,255,cv2.NORM_MINMAX)\n",
    "    \n",
    "    if debug == True:\n",
    "        print(\"Frame, roi, roi in hsv, mask\")\n",
    "        plt.subplot(321), plt.imshow(frame, 'gray')\n",
    "        plt.subplot(322), plt.imshow(roi, 'gray')\n",
    "        plt.subplot(323), plt.imshow(hsv_roi,'gray')\n",
    "        plt.subplot(324), plt.imshow(mask, 'gray')\n",
    "        plt.show()\n",
    "        print(\"ROI hist\")\n",
    "        plt.plot(roi_hist)\n",
    "        plt.show()\n",
    "        print(\"ROI hist without mask\")\n",
    "        create_and_draw_hist(frame)\n",
    "\n",
    "    # Setup the termination criteria, either 10 iteration or move by at least 1 pt\n",
    "    term_crit = ( cv2.TERM_CRITERIA_EPS | cv2.TERM_CRITERIA_COUNT, 10, 1 )\n",
    "\n",
    "    for filename in sorted(glob.glob(path_to_dataset + '/*.jpg')):\n",
    "        frame = imread(filename)\n",
    "        ret = True\n",
    "        if ret == True:\n",
    "            hsv = cv2.cvtColor(frame, cv2.COLOR_BGR2HSV)\n",
    "\n",
    "# images – Source arrays. They all should have the same depth, CV_8U or CV_32F , and the same size. \n",
    "#          Each of them can have an arbitrary number of channels.\n",
    "# nimages – Number of source images.\n",
    "# channels – The list of channels used to compute the back projection. The number of channels must match the histogram dimensionality. \n",
    "#            The first array channels are numerated from 0 to images[0].channels()-1 , \n",
    "#            the second array channels are counted from images[0].channels() to images[0].channels() + images[1].channels()-1, and so on.\n",
    "# hist – Input histogram that can be dense or sparse.\n",
    "# backProject – Destination back projection array that is a single-channel array of the same size and depth as images[0] .\n",
    "# ranges – Array of arrays of the histogram bin boundaries in each dimension. See calcHist() .\n",
    "# scale – Optional scale factor for the output back projection.\n",
    "# uniform – Flag indicating whether the histogram is uniform or not (see above).\n",
    "            prob_image = cv2.calcBackProject([hsv], [0], roi_hist, [start_hue,end_hue], 1)\n",
    "\n",
    "            # apply meanshift to get the new location\n",
    "            ret, track_window = cv2.meanShift(prob_image, track_window, term_crit)\n",
    "\n",
    "            # Draw it on image\n",
    "            x,y,w,h = track_window\n",
    "            img2 = cv2.rectangle(frame, (x,y), (x+w,y+h), 255,2)\n",
    "            cv2.imshow('img2', img2)\n",
    "# wait for Esc\n",
    "            k = cv2.waitKey(60) & 0xff\n",
    "            if k == 27:\n",
    "                break\n",
    "            else:\n",
    "                cv2.imwrite(chr(k)+\".jpg\",img2)\n",
    "\n",
    "        else:\n",
    "            break\n",
    "\n",
    "    cv2.destroyAllWindows()\n",
    "# need on mac\n",
    "    cv2.waitKey(1)\n",
    "    "
   ]
  },
  {
   "cell_type": "code",
   "execution_count": 5,
   "metadata": {
    "ExecuteTime": {
     "end_time": "2019-07-08T12:31:36.895405Z",
     "start_time": "2019-07-08T12:31:33.649902Z"
    }
   },
   "outputs": [],
   "source": [
    "tracking_mean_shift('../data/Basketball/img/', (198,214,34,81), hue_range=(50, 70), debug=False)"
   ]
  },
  {
   "cell_type": "code",
   "execution_count": 6,
   "metadata": {
    "ExecuteTime": {
     "end_time": "2019-07-08T12:32:29.321382Z",
     "start_time": "2019-07-08T12:32:21.347706Z"
    }
   },
   "outputs": [],
   "source": [
    "tracking_mean_shift('../data/Biker/img/', (262, 94, 16, 26), hue_range=(90, 120), debug = False)"
   ]
  },
  {
   "cell_type": "code",
   "execution_count": 7,
   "metadata": {
    "ExecuteTime": {
     "end_time": "2019-07-08T12:32:39.146554Z",
     "start_time": "2019-07-08T12:32:36.352960Z"
    }
   },
   "outputs": [],
   "source": [
    "tracking_mean_shift('../data/BlurBody/img/', (400, 48, 87, 319), hue_range=(10, 30), debug=False)"
   ]
  },
  {
   "cell_type": "code",
   "execution_count": 8,
   "metadata": {
    "ExecuteTime": {
     "end_time": "2019-07-08T12:32:44.606511Z",
     "start_time": "2019-07-08T12:32:41.569579Z"
    }
   },
   "outputs": [],
   "source": [
    "tracking_mean_shift('../data/BlurCar2/img/', (227,207,122,99), hue_range=(125, 130), debug=False)"
   ]
  },
  {
   "cell_type": "code",
   "execution_count": 15,
   "metadata": {
    "ExecuteTime": {
     "end_time": "2019-07-02T06:17:06.052682Z",
     "start_time": "2019-07-02T06:16:32.633574Z"
    }
   },
   "outputs": [],
   "source": [
    "tracking_mean_shift('../data/Bird1/img/', (450,91,31,37), hue_range=(92, 97), debug = False)"
   ]
  },
  {
   "cell_type": "code",
   "execution_count": 31,
   "metadata": {
    "ExecuteTime": {
     "end_time": "2019-07-02T06:32:52.878029Z",
     "start_time": "2019-07-02T06:32:51.933304Z"
    }
   },
   "outputs": [],
   "source": [
    "tracking_mean_shift('../data/Surfer/img/', (275,137,23,26), hue_range=(0, 255), debug = False)"
   ]
  },
  {
   "cell_type": "markdown",
   "metadata": {},
   "source": [
    "# Camshift tracking"
   ]
  },
  {
   "cell_type": "code",
   "execution_count": 2,
   "metadata": {
    "ExecuteTime": {
     "end_time": "2019-07-04T15:51:22.045543Z",
     "start_time": "2019-07-04T15:51:22.002814Z"
    }
   },
   "outputs": [],
   "source": [
    "# https://www.bogotobogo.com/python/OpenCV_Python/python_opencv3_mean_shift_tracking_segmentation.php\n",
    "# https://docs.opencv.org/2.4/modules/imgproc/doc/histograms.html?highlight=calcbackproject\n",
    "# https://www.learnopencv.com/color-spaces-in-opencv-cpp-python/\n",
    "\n",
    "def tracking_cam_shift(path_to_dataset, roi, hue_range = (120, 180), debug = False):\n",
    "    frame = imread(path_to_dataset + '/0001.jpg')\n",
    "    (x,y,w,h) = roi\n",
    "    track_window = roi\n",
    "\n",
    "    # set up the ROI for tracking\n",
    "    roi = frame[y:y+h, x:x+w]\n",
    "\n",
    "    # convert BGR image to HSV\n",
    "    hsv_roi =  cv2.cvtColor(roi, cv2.COLOR_BGR2HSV)\n",
    "\n",
    "    # set threshold the HSV image to get certain color\n",
    "    # H – Hue ( Dominant Wavelength ).\n",
    "    # S – Saturation ( Purity / shades of the color ).\n",
    "    # V – Value ( Intensity ).\n",
    "    start_hue = hue_range[0]\n",
    "    end_hue = hue_range[1]\n",
    "    mask = cv2.inRange(hsv_roi, np.array((start_hue, 60.,32.)), np.array((end_hue,255.,255.)))\n",
    "    \n",
    "    # images : it is the source image of type uint8 or float32. it should be given in square brackets, ie, \"[img]\".\n",
    "    # channels : it is also given in square brackets. It is the index of channel for which we calculate histogram. \n",
    "    #            For example, if input is grayscale image, its value is [0]. For color image, you can pass [0], [1] or [2] \n",
    "    #            to calculate histogram of blue, green or red channel respectively.\n",
    "    # mask : mask image. To find histogram of full image, it is given as \"None\". But if you want to find histogram \n",
    "    #        of particular region of image, you have to create a mask image for that and give it as mask.\n",
    "    # histSize : this represents our BIN count. Need to be given in square brackets. For full scale, we pass [256].\n",
    "    # ranges : this is our RANGE. Normally, it is [0,256].\n",
    "    roi_hist = cv2.calcHist([hsv_roi],[0],mask,[end_hue-start_hue],[start_hue, end_hue])\n",
    "    \n",
    "    # src – input array.\n",
    "    # dst – output array of the same size as src .\n",
    "    # alpha – norm value to normalize to or the lower range boundary in case of the range normalization.\n",
    "    # beta – upper range boundary in case of the range normalization; it is not used for the norm normalization.\n",
    "    # normType – normalization type (see the details below).\n",
    "    # dtype – when negative, the output array has the same type as src; otherwise, it has the same number of channels as src and the depth =CV_MAT_DEPTH(dtype).\n",
    "    # mask – optional operation mask.\n",
    "    cv2.normalize(roi_hist,roi_hist,0,255,cv2.NORM_MINMAX)\n",
    "    \n",
    "    if debug == True:\n",
    "        plt.subplot(321), plt.imshow(frame, 'gray')\n",
    "        plt.subplot(322), plt.imshow(roi, 'gray')\n",
    "        plt.subplot(323), plt.imshow(hsv_roi,'gray')\n",
    "        plt.subplot(324), plt.imshow(mask, 'gray')\n",
    "        plt.show()\n",
    "        plt.plot(roi_hist)\n",
    "        plt.show()\n",
    "        create_and_draw_hist(roi)\n",
    "\n",
    "    # Setup the termination criteria, either 10 iteration or move by at least 1 pt\n",
    "    term_crit = ( cv2.TERM_CRITERIA_EPS | cv2.TERM_CRITERIA_COUNT, 10, 1 )\n",
    "\n",
    "    for filename in sorted(glob.glob(path_to_dataset + '/*.jpg')):\n",
    "        frame = imread(filename)\n",
    "        ret = True\n",
    "        if ret == True:\n",
    "            hsv = cv2.cvtColor(frame, cv2.COLOR_BGR2HSV)\n",
    "\n",
    "# images – Source arrays. They all should have the same depth, CV_8U or CV_32F , and the same size. \n",
    "#          Each of them can have an arbitrary number of channels.\n",
    "# nimages – Number of source images.\n",
    "# channels – The list of channels used to compute the back projection. The number of channels must match the histogram dimensionality. \n",
    "#            The first array channels are numerated from 0 to images[0].channels()-1 , \n",
    "#            the second array channels are counted from images[0].channels() to images[0].channels() + images[1].channels()-1, and so on.\n",
    "# hist – Input histogram that can be dense or sparse.\n",
    "# backProject – Destination back projection array that is a single-channel array of the same size and depth as images[0] .\n",
    "# ranges – Array of arrays of the histogram bin boundaries in each dimension. See calcHist() .\n",
    "# scale – Optional scale factor for the output back projection.\n",
    "# uniform – Flag indicating whether the histogram is uniform or not (see above).\n",
    "            prob_image = cv2.calcBackProject([hsv],[0],roi_hist,[start_hue,end_hue],1)\n",
    "\n",
    "            # apply camshift to get the new location and rectangle size\n",
    "            ret, track_window = cv2.CamShift(prob_image, track_window, term_crit)\n",
    "            \n",
    "            # Draw it on image\n",
    "            pts = cv2.boxPoints(ret)\n",
    "            pts = np.int0(pts)\n",
    "            img2 = cv2.polylines(frame,[pts],True, 255,2)\n",
    "            cv2.imshow('img2',img2)\n",
    "            \n",
    "            k = cv2.waitKey(60) & 0xff\n",
    "            if k == 27:\n",
    "                break\n",
    "            else:\n",
    "                cv2.imwrite(chr(k)+\".jpg\",img2)\n",
    "\n",
    "        else:\n",
    "            break\n",
    "\n",
    "    cv2.destroyAllWindows()\n",
    "# need on mac\n",
    "    cv2.waitKey(1)"
   ]
  },
  {
   "cell_type": "code",
   "execution_count": 3,
   "metadata": {
    "ExecuteTime": {
     "end_time": "2019-07-04T15:51:27.813217Z",
     "start_time": "2019-07-04T15:51:23.251424Z"
    }
   },
   "outputs": [],
   "source": [
    "tracking_cam_shift('../data/Basketball/img/', (198,214,34,81), hue_range=(60, 75), debug=False)"
   ]
  },
  {
   "cell_type": "code",
   "execution_count": 130,
   "metadata": {
    "ExecuteTime": {
     "end_time": "2019-06-30T20:22:52.212343Z",
     "start_time": "2019-06-30T20:22:40.088829Z"
    }
   },
   "outputs": [],
   "source": [
    "tracking_cam_shift('../data/Biker/img/', (262, 94, 16, 26), hue_range=(90, 120), debug = False)"
   ]
  },
  {
   "cell_type": "code",
   "execution_count": 132,
   "metadata": {
    "ExecuteTime": {
     "end_time": "2019-06-30T20:23:16.362320Z",
     "start_time": "2019-06-30T20:22:59.606164Z"
    }
   },
   "outputs": [],
   "source": [
    "tracking_cam_shift('../data/BlurBody/img/', (400, 48, 87, 319), hue_range=(10, 30), debug=False)"
   ]
  },
  {
   "cell_type": "code",
   "execution_count": 81,
   "metadata": {
    "ExecuteTime": {
     "end_time": "2019-06-30T19:52:36.589562Z",
     "start_time": "2019-06-30T19:52:23.531383Z"
    }
   },
   "outputs": [],
   "source": [
    "tracking_cam_shift('../data/BlurCar2/img/', (227,207,122,99), hue_range=(125, 130), debug=False)"
   ]
  },
  {
   "cell_type": "code",
   "execution_count": 82,
   "metadata": {
    "ExecuteTime": {
     "end_time": "2019-06-30T19:53:04.357327Z",
     "start_time": "2019-06-30T19:52:39.061975Z"
    }
   },
   "outputs": [],
   "source": [
    "tracking_cam_shift('../data/Bird1/img/', (450,91,31,37), hue_range=(92, 97), debug = False)"
   ]
  },
  {
   "cell_type": "code",
   "execution_count": 9,
   "metadata": {
    "ExecuteTime": {
     "end_time": "2019-06-30T20:46:30.786513Z",
     "start_time": "2019-06-30T20:46:10.198158Z"
    }
   },
   "outputs": [],
   "source": [
    "tracking_cam_shift('../data/Surfer/img/', (275,137,23,26), hue_range=(0, 255), debug = False)"
   ]
  }
 ],
 "metadata": {
  "kernelspec": {
   "display_name": "Python 3",
   "language": "python",
   "name": "python3"
  },
  "language_info": {
   "codemirror_mode": {
    "name": "ipython",
    "version": 3
   },
   "file_extension": ".py",
   "mimetype": "text/x-python",
   "name": "python",
   "nbconvert_exporter": "python",
   "pygments_lexer": "ipython3",
   "version": "3.7.3"
  },
  "toc": {
   "base_numbering": 1,
   "nav_menu": {},
   "number_sections": true,
   "sideBar": true,
   "skip_h1_title": false,
   "title_cell": "Table of Contents",
   "title_sidebar": "Contents",
   "toc_cell": false,
   "toc_position": {},
   "toc_section_display": true,
   "toc_window_display": false
  },
  "varInspector": {
   "cols": {
    "lenName": 16,
    "lenType": 16,
    "lenVar": 40
   },
   "kernels_config": {
    "python": {
     "delete_cmd_postfix": "",
     "delete_cmd_prefix": "del ",
     "library": "var_list.py",
     "varRefreshCmd": "print(var_dic_list())"
    },
    "r": {
     "delete_cmd_postfix": ") ",
     "delete_cmd_prefix": "rm(",
     "library": "var_list.r",
     "varRefreshCmd": "cat(var_dic_list()) "
    }
   },
   "types_to_exclude": [
    "module",
    "function",
    "builtin_function_or_method",
    "instance",
    "_Feature"
   ],
   "window_display": false
  }
 },
 "nbformat": 4,
 "nbformat_minor": 2
}
