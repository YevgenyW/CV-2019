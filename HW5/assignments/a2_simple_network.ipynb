{
 "cells": [
  {
   "cell_type": "markdown",
   "metadata": {
    "colab_type": "text",
    "id": "x69kuf4SUkCA"
   },
   "source": [
    "*Notebook conventions:*\n",
    "\n",
    "* <font color=\"red\">assignment problem</font>. The red color indicates the task that should be done\n",
    "* <font color=\"green\">debugging</font>. The green tells you what is expected outcome. Its primarily goal is to help you get the correct answer\n",
    "* <font color=\"blue\">comments, hints</font>.\n",
    "\n",
    "Assignment 2 (Simple network)\n",
    "======================\n",
    "\n"
   ]
  },
  {
   "cell_type": "markdown",
   "metadata": {
    "colab_type": "text",
    "id": "Z8MRDiGWUkCB"
   },
   "source": [
    "## Preliminaries"
   ]
  },
  {
   "cell_type": "code",
   "execution_count": 2,
   "metadata": {
    "ExecuteTime": {
     "end_time": "2019-07-31T05:14:41.490344Z",
     "start_time": "2019-07-31T05:14:41.488151Z"
    },
    "colab": {
     "base_uri": "https://localhost:8080/",
     "height": 127
    },
    "colab_type": "code",
    "executionInfo": {
     "elapsed": 42409,
     "status": "ok",
     "timestamp": 1563405623628,
     "user": {
      "displayName": "Andrey Lyubonko",
      "photoUrl": "",
      "userId": "14195748931596322145"
     },
     "user_tz": -180
    },
    "id": "W_5ydpwdVTj6",
    "outputId": "9177ac28-8d39-4a19-b635-de8c96aa6dc8"
   },
   "outputs": [],
   "source": [
    "# from google.colab import drive\n",
    "# drive.mount('/content/drive')"
   ]
  },
  {
   "cell_type": "code",
   "execution_count": 3,
   "metadata": {
    "ExecuteTime": {
     "end_time": "2019-07-31T05:14:41.495162Z",
     "start_time": "2019-07-31T05:14:41.492537Z"
    },
    "colab": {},
    "colab_type": "code",
    "id": "AN11J376UkCC"
   },
   "outputs": [],
   "source": [
    "# for compatability issues \n",
    "from __future__ import print_function"
   ]
  },
  {
   "cell_type": "code",
   "execution_count": 4,
   "metadata": {
    "ExecuteTime": {
     "end_time": "2019-07-31T05:14:41.782973Z",
     "start_time": "2019-07-31T05:14:41.497631Z"
    },
    "colab": {},
    "colab_type": "code",
    "id": "IfCU7c5KUkCG"
   },
   "outputs": [],
   "source": [
    "import numpy as np\n",
    "import os\n",
    "from PIL import Image\n",
    "import matplotlib.pyplot as plt"
   ]
  },
  {
   "cell_type": "code",
   "execution_count": 5,
   "metadata": {
    "ExecuteTime": {
     "end_time": "2019-07-31T05:14:42.215443Z",
     "start_time": "2019-07-31T05:14:41.785263Z"
    },
    "colab": {},
    "colab_type": "code",
    "id": "pKJJpL4JUkCI"
   },
   "outputs": [],
   "source": [
    "import torch\n",
    "import torch.nn as nn\n",
    "import torch.nn.functional as F"
   ]
  },
  {
   "cell_type": "code",
   "execution_count": 6,
   "metadata": {
    "ExecuteTime": {
     "end_time": "2019-07-31T05:14:42.250278Z",
     "start_time": "2019-07-31T05:14:42.217128Z"
    },
    "colab": {},
    "colab_type": "code",
    "id": "1sqUeL6jUkCL"
   },
   "outputs": [],
   "source": [
    "# to make interactive plotting possible\n",
    "%matplotlib inline\n",
    "# for auto-reloading external modules\n",
    "%load_ext autoreload\n",
    "%autoreload 2"
   ]
  },
  {
   "cell_type": "code",
   "execution_count": 7,
   "metadata": {
    "ExecuteTime": {
     "end_time": "2019-07-31T05:14:42.280286Z",
     "start_time": "2019-07-31T05:14:42.252933Z"
    },
    "colab": {},
    "colab_type": "code",
    "id": "G2v18tmDUkCN"
   },
   "outputs": [],
   "source": [
    "# make plots a bit nicer\n",
    "plt.matplotlib.rcParams.update({'font.size': 18, 'font.family': 'serif'})"
   ]
  },
  {
   "cell_type": "code",
   "execution_count": 8,
   "metadata": {
    "ExecuteTime": {
     "end_time": "2019-07-31T05:14:42.310146Z",
     "start_time": "2019-07-31T05:14:42.283624Z"
    },
    "colab": {},
    "colab_type": "code",
    "id": "ZrKaje3eUkCQ"
   },
   "outputs": [],
   "source": [
    "# random seed settings\n",
    "torch.manual_seed(42)\n",
    "np.random.seed(42)\n",
    "\n",
    "# data type (useful to have in pytorch)\n",
    "dtype_np = np.float64\n",
    "dtype_torch = torch.FloatTensor"
   ]
  },
  {
   "cell_type": "markdown",
   "metadata": {
    "colab_type": "text",
    "id": "SOnnHO4_XN7n"
   },
   "source": [
    "### Pathes"
   ]
  },
  {
   "cell_type": "code",
   "execution_count": 9,
   "metadata": {
    "ExecuteTime": {
     "end_time": "2019-07-31T05:14:42.340180Z",
     "start_time": "2019-07-31T05:14:42.311650Z"
    },
    "colab": {},
    "colab_type": "code",
    "id": "9RORVALWXQJp"
   },
   "outputs": [],
   "source": [
    "path_data = \"./data/toy_data/data_class_train.txt\""
   ]
  },
  {
   "cell_type": "markdown",
   "metadata": {
    "colab_type": "text",
    "id": "g8wxAx0AUkCT"
   },
   "source": [
    "### Data (playground)"
   ]
  },
  {
   "cell_type": "code",
   "execution_count": 10,
   "metadata": {
    "ExecuteTime": {
     "end_time": "2019-07-31T05:14:42.375539Z",
     "start_time": "2019-07-31T05:14:42.342088Z"
    },
    "colab": {},
    "colab_type": "code",
    "id": "w0z3rxUUUkCT"
   },
   "outputs": [],
   "source": [
    "# load data\n",
    "data = np.loadtxt(path_data)\n",
    "dataX = data[:,0:2]\n",
    "dataY = data[:,2]"
   ]
  },
  {
   "cell_type": "code",
   "execution_count": 11,
   "metadata": {
    "ExecuteTime": {
     "end_time": "2019-07-31T05:14:42.405006Z",
     "start_time": "2019-07-31T05:14:42.377823Z"
    },
    "colab": {},
    "colab_type": "code",
    "id": "fzE1sHScUkCW"
   },
   "outputs": [],
   "source": [
    "n_samples = data.shape[0]\n",
    "dim_in = 2 # two features\n",
    "dim_out = 3 # three classes\n",
    "\n",
    "n_train = int(n_samples * 0.7)\n",
    "n_test = n_samples - n_train"
   ]
  },
  {
   "cell_type": "code",
   "execution_count": 12,
   "metadata": {
    "ExecuteTime": {
     "end_time": "2019-07-31T05:14:42.434125Z",
     "start_time": "2019-07-31T05:14:42.407488Z"
    },
    "colab": {},
    "colab_type": "code",
    "id": "VL-MOE60UkCZ"
   },
   "outputs": [],
   "source": [
    "# train-test partition\n",
    "perm = np.random.permutation(n_samples)\n",
    "train_indx = perm[:n_train]\n",
    "test_indx = perm[n_train:]\n",
    "\n",
    "dataX_train, dataY_train = dataX[train_indx,:], dataY[train_indx]\n",
    "dataX_test, dataY_test = dataX[test_indx,:], dataY[test_indx]"
   ]
  },
  {
   "cell_type": "code",
   "execution_count": 13,
   "metadata": {
    "ExecuteTime": {
     "end_time": "2019-07-31T05:14:42.717428Z",
     "start_time": "2019-07-31T05:14:42.435470Z"
    },
    "colab": {
     "base_uri": "https://localhost:8080/",
     "height": 353
    },
    "colab_type": "code",
    "executionInfo": {
     "elapsed": 48318,
     "status": "ok",
     "timestamp": 1563405629583,
     "user": {
      "displayName": "Andrey Lyubonko",
      "photoUrl": "",
      "userId": "14195748931596322145"
     },
     "user_tz": -180
    },
    "id": "lyiIizM6UkCd",
    "outputId": "98d122c3-8845-4dea-d653-ba57da221bab"
   },
   "outputs": [
    {
     "data": {
      "image/png": "[encoded data removed]",
      "text/plain": [
       "<Figure size 720x360 with 1 Axes>"
      ]
     },
     "metadata": {
      "needs_background": "light"
     },
     "output_type": "display_data"
    }
   ],
   "source": [
    "# visualize data\n",
    "plt.figure(figsize=(10,5))\n",
    "plt.plot(dataX_train[dataY_train==0,0], dataX_train[dataY_train==0,1],'ob', label=\"class1\")\n",
    "plt.plot(dataX_train[dataY_train==1,0], dataX_train[dataY_train==1,1],'og', label=\"class2\")\n",
    "plt.plot(dataX_train[dataY_train==2,0], dataX_train[dataY_train==2,1],'or', label=\"class3\")\n",
    "\n",
    "plt.plot(dataX_test[:,0], dataX_test[:,1],'xk', label=\"test\")\n",
    "\n",
    "plt.xlabel('feature #1')\n",
    "plt.ylabel('feature #2')\n",
    "plt.legend()\n",
    "plt.xlim(-9, 9)\n",
    "plt.ylim(-5, 12);"
   ]
  },
  {
   "cell_type": "markdown",
   "metadata": {
    "colab_type": "text",
    "id": "emywYf7kUkCi"
   },
   "source": [
    "## Two-layer Network (by hand)\n",
    "\n",
    "\n",
    "$$x_{hidden} = RELU(x  \\cdot W_1 + b_1)$$\n",
    "$$y_{pred} = x_{hidden} \\cdot W_2 + b_2$$"
   ]
  },
  {
   "cell_type": "code",
   "execution_count": 14,
   "metadata": {
    "ExecuteTime": {
     "end_time": "2019-07-31T05:14:42.746334Z",
     "start_time": "2019-07-31T05:14:42.719871Z"
    },
    "colab": {},
    "colab_type": "code",
    "id": "kvqsZejNUkCj"
   },
   "outputs": [],
   "source": [
    "dim_hidden = 100 # hidden dimension"
   ]
  },
  {
   "cell_type": "code",
   "execution_count": 15,
   "metadata": {
    "ExecuteTime": {
     "end_time": "2019-07-31T05:14:42.783451Z",
     "start_time": "2019-07-31T05:14:42.748329Z"
    },
    "colab": {},
    "colab_type": "code",
    "id": "7ujFGnvmUkCl"
   },
   "outputs": [],
   "source": [
    "# input \n",
    "x = torch.from_numpy(dataX_train).type(dtype_torch)\n",
    "y = torch.from_numpy(dataY_train).type(torch.LongTensor)"
   ]
  },
  {
   "cell_type": "markdown",
   "metadata": {
    "colab_type": "text",
    "id": "c0FLztlqUkCo"
   },
   "source": [
    "* Weights and biases"
   ]
  },
  {
   "cell_type": "markdown",
   "metadata": {
    "colab_type": "text",
    "id": "pm0AbfS_UkCo"
   },
   "source": [
    " <font color=\"red\"> **[PROBLEM I]**: </font>   \n",
    " <font color=\"red\"> Fill the missing part (weights and biases for the output layer) </font>  "
   ]
  },
  {
   "cell_type": "code",
   "execution_count": 16,
   "metadata": {
    "ExecuteTime": {
     "end_time": "2019-07-31T05:14:42.813467Z",
     "start_time": "2019-07-31T05:14:42.786742Z"
    },
    "colab": {},
    "colab_type": "code",
    "id": "P6EaCFsSUkCp"
   },
   "outputs": [],
   "source": [
    "# Randomly initialize weights\n",
    "w1_value = np.random.randn(dim_in, dim_hidden)\n",
    "w2_value = np.random.randn(dim_hidden, dim_out)\n",
    "\n",
    "# Randomly initialize biases\n",
    "b1_value = np.random.randn(dim_hidden)\n",
    "b2_value = np.random.randn(dim_out)"
   ]
  },
  {
   "cell_type": "code",
   "execution_count": 17,
   "metadata": {
    "ExecuteTime": {
     "end_time": "2019-07-31T05:14:42.844111Z",
     "start_time": "2019-07-31T05:14:42.817020Z"
    },
    "colab": {},
    "colab_type": "code",
    "id": "4j7AOmZNUkCr"
   },
   "outputs": [],
   "source": [
    "w1 = torch.from_numpy(w1_value).type(dtype_torch).requires_grad_(True)\n",
    "w2 = torch.from_numpy(w2_value).type(dtype_torch).requires_grad_(True)\n",
    "b1 = torch.from_numpy(b1_value).type(dtype_torch).requires_grad_(True)\n",
    "b2 = torch.from_numpy(b2_value).type(dtype_torch).requires_grad_(True)"
   ]
  },
  {
   "cell_type": "markdown",
   "metadata": {
    "colab_type": "text",
    "id": "KB_MBRG-UkCu"
   },
   "source": [
    "* Loss (we will use cross-entropy loss), see documentation for details http://pytorch.org/docs/master/nn.html#torch.nn.CrossEntropyLoss"
   ]
  },
  {
   "cell_type": "code",
   "execution_count": 18,
   "metadata": {
    "ExecuteTime": {
     "end_time": "2019-07-31T05:14:42.869945Z",
     "start_time": "2019-07-31T05:14:42.845839Z"
    },
    "colab": {},
    "colab_type": "code",
    "id": "NQw_LYFbUkCv"
   },
   "outputs": [],
   "source": [
    "criterion = nn.CrossEntropyLoss()"
   ]
  },
  {
   "cell_type": "markdown",
   "metadata": {
    "colab_type": "text",
    "id": "cKSu08rFUkCx"
   },
   "source": [
    "* learning parameters"
   ]
  },
  {
   "cell_type": "code",
   "execution_count": 19,
   "metadata": {
    "ExecuteTime": {
     "end_time": "2019-07-31T05:14:42.896365Z",
     "start_time": "2019-07-31T05:14:42.871551Z"
    },
    "colab": {},
    "colab_type": "code",
    "id": "f5MTxAyPUkCy"
   },
   "outputs": [],
   "source": [
    "learning_rate = 1e-3\n",
    "n_iteration = 500"
   ]
  },
  {
   "cell_type": "markdown",
   "metadata": {
    "colab_type": "text",
    "id": "PDYPUHoDUkC0"
   },
   "source": [
    " <font color=\"red\"> **[PROBLEM II]**: </font>   \n",
    " <font color=\"red\"> Fill the missing part (last operation in forward pass to calculate *y_pred*) </font>  "
   ]
  },
  {
   "cell_type": "code",
   "execution_count": 20,
   "metadata": {
    "ExecuteTime": {
     "end_time": "2019-07-31T05:14:43.525463Z",
     "start_time": "2019-07-31T05:14:42.897886Z"
    },
    "colab": {
     "base_uri": "https://localhost:8080/",
     "height": 107
    },
    "colab_type": "code",
    "executionInfo": {
     "elapsed": 51354,
     "status": "ok",
     "timestamp": 1563405632658,
     "user": {
      "displayName": "Andrey Lyubonko",
      "photoUrl": "",
      "userId": "14195748931596322145"
     },
     "user_tz": -180
    },
    "id": "kD980w_HUkC1",
    "outputId": "048b2ce1-3f23-4137-b1ed-fd9d6098c6c2"
   },
   "outputs": [
    {
     "name": "stdout",
     "output_type": "stream",
     "text": [
      "0 20.01432228088379\n",
      "100 1.3266929388046265\n",
      "200 0.4813610315322876\n",
      "300 0.3851567208766937\n",
      "400 0.3476109206676483\n"
     ]
    }
   ],
   "source": [
    "logger = {}\n",
    "logger['iteration'] = []\n",
    "logger['loss_iteration'] = []\n",
    "\n",
    "for t in range(n_iteration):  \n",
    "#     print(x.shape, w1.shape)\n",
    "    # forward pass\n",
    "    x_hidden = x.mm(w1) + b1\n",
    "    x_hidden_act = x_hidden.clamp(min=0) # apply RELU\n",
    "    y_pred = x_hidden_act.mm(w2) + b2\n",
    "    \n",
    "    # compute loss\n",
    "    loss = criterion(y_pred, y)\n",
    "\n",
    "    # backprop\n",
    "    loss.backward()\n",
    "\n",
    "    # update weights using gradient descent  \n",
    "    w1.data -= learning_rate * w1.grad\n",
    "    w2.data -= learning_rate * w2.grad\n",
    "    b1.data -= learning_rate * b1.grad\n",
    "    b2.data -= learning_rate * b2.grad\n",
    "\n",
    "    # manually zero the gradients\n",
    "    w1.grad.zero_()\n",
    "    w2.grad.zero_()\n",
    "    b1.grad.zero_()\n",
    "    b2.grad.zero_()      \n",
    "    \n",
    "    # reporting & logging       \n",
    "    if t % 100 == 0:\n",
    "        print(t, loss.item())\n",
    "        \n",
    "    logger['iteration'] += [t]\n",
    "    logger['loss_iteration'] += [loss.item()]"
   ]
  },
  {
   "cell_type": "markdown",
   "metadata": {
    "colab_type": "text",
    "id": "ZRVfrCSjUkC6"
   },
   "source": [
    " <font color=\"green\"> After visualizing the loss (cell below) you should see something like this </font>\n",
    "\n",
    "![loss_toy.png](https://drive.google.com/uc?id=1wzsrZQfIOFueYmFp5KnhG-iDFCnRkO_v)"
   ]
  },
  {
   "cell_type": "code",
   "execution_count": 21,
   "metadata": {
    "ExecuteTime": {
     "end_time": "2019-07-31T05:14:43.741001Z",
     "start_time": "2019-07-31T05:14:43.527827Z"
    },
    "colab": {
     "base_uri": "https://localhost:8080/",
     "height": 353
    },
    "colab_type": "code",
    "executionInfo": {
     "elapsed": 51340,
     "status": "ok",
     "timestamp": 1563405632660,
     "user": {
      "displayName": "Andrey Lyubonko",
      "photoUrl": "",
      "userId": "14195748931596322145"
     },
     "user_tz": -180
    },
    "id": "2thNWH0QUkC7",
    "outputId": "677bf153-c985-42b4-a1c4-7b370cdf0d9e"
   },
   "outputs": [
    {
     "data": {
      "image/png": "[encoded data removed]",
      "text/plain": [
       "<Figure size 720x360 with 1 Axes>"
      ]
     },
     "metadata": {
      "needs_background": "light"
     },
     "output_type": "display_data"
    }
   ],
   "source": [
    "# visualize loss\n",
    "plt.figure(figsize=(10,5))\n",
    "plt.plot(logger['iteration'], logger['loss_iteration'],'ob', label=\"loss\")\n",
    "\n",
    "plt.xlabel('iteration')\n",
    "plt.ylabel('loss');"
   ]
  },
  {
   "cell_type": "markdown",
   "metadata": {
    "colab_type": "text",
    "id": "PlnAncYjUkDC"
   },
   "source": [
    "<font color=\"red\"> **[PROBLEM III]**: </font>   \n",
    "<font color=\"red\"> Implement the fuction which takes x and predicts its class </font>  "
   ]
  },
  {
   "cell_type": "code",
   "execution_count": 22,
   "metadata": {
    "ExecuteTime": {
     "end_time": "2019-07-31T05:14:43.772544Z",
     "start_time": "2019-07-31T05:14:43.743766Z"
    },
    "colab": {},
    "colab_type": "code",
    "id": "rWXjnPprUkDC"
   },
   "outputs": [],
   "source": [
    "def predict(x, w1, b1, w2, b2, dtype_torch=torch.FloatTensor):\n",
    "    \"\"\"\n",
    "    Prediction based on two-layer model (by hand)\n",
    "    \n",
    "    Args:\n",
    "        x (numpy.array): sample\n",
    "        w1, b1, w2, b2 (torch.Tensor) : weights and biases \n",
    "    Returns:\n",
    "        scalar: predicted class\n",
    "    \"\"\"\n",
    "#     print(x.shape)\n",
    "    t = torch.from_numpy(x).type(dtype_torch)\n",
    "    \n",
    "    t = t.view(1,2)\n",
    "    hidden = (torch.mm(t, w1) + b1).clamp(min=0)\n",
    "#     print(x.shape, w1.shape, hidden.shape, w2.shape)\n",
    "    forward_pass = hidden.mm(w2) + b2\n",
    "#     print(type(forward_pass), forward_pass.shape)\n",
    "    forward_pass = forward_pass.detach().numpy()\n",
    "\n",
    "#     forward_pass = torch.mm(hidden, w2) + b2 #((torch.from_numpy(x)).mm(w1) + b1).mm(w2)+b2 # YOUR CODE HERE\n",
    "    return np.argmax(forward_pass)"
   ]
  },
  {
   "cell_type": "markdown",
   "metadata": {
    "colab_type": "text",
    "id": "_45l9ft5UkDE"
   },
   "source": [
    "<span style=\"color:green\"> by running the following command you should get number bigger than 8 </span>"
   ]
  },
  {
   "cell_type": "code",
   "execution_count": 23,
   "metadata": {
    "ExecuteTime": {
     "end_time": "2019-07-31T05:14:43.808840Z",
     "start_time": "2019-07-31T05:14:43.775424Z"
    },
    "colab": {
     "base_uri": "https://localhost:8080/",
     "height": 35
    },
    "colab_type": "code",
    "executionInfo": {
     "elapsed": 51329,
     "status": "ok",
     "timestamp": 1563405632665,
     "user": {
      "displayName": "Andrey Lyubonko",
      "photoUrl": "",
      "userId": "14195748931596322145"
     },
     "user_tz": -180
    },
    "id": "7dgMC_-XUkDF",
    "outputId": "96f8759d-1fb0-4408-9851-288a482e0273"
   },
   "outputs": [
    {
     "data": {
      "text/plain": [
       "10"
      ]
     },
     "execution_count": 23,
     "metadata": {},
     "output_type": "execute_result"
    }
   ],
   "source": [
    "np.sum(np.equal([predict(x, w1, b1, w2, b2) for x in dataX_train[:10]], [0, 2, 0, 1, 0, 2, 0, 0, 1, 0]))"
   ]
  },
  {
   "cell_type": "markdown",
   "metadata": {
    "colab_type": "text",
    "id": "H-va53cfUkDI"
   },
   "source": [
    "* Calculate accuracy"
   ]
  },
  {
   "cell_type": "code",
   "execution_count": 24,
   "metadata": {
    "ExecuteTime": {
     "end_time": "2019-07-31T05:14:43.838569Z",
     "start_time": "2019-07-31T05:14:43.810519Z"
    },
    "colab": {},
    "colab_type": "code",
    "id": "Mh19f7hxUkDJ"
   },
   "outputs": [],
   "source": [
    "def get_accuracy(y, y_pred):\n",
    "    \"\"\"\n",
    "    Calculate accuracy given y and y_predicted\n",
    "    \n",
    "    Args:\n",
    "        y (numpy.array): ground truth\n",
    "        y_pred (numpy.array): predictated values\n",
    "         \n",
    "    Returns:\n",
    "        scalar: accuracy\n",
    "    \"\"\"\n",
    "    n_samples = y.shape[0]\n",
    "    return np.sum(y == y_pred)/n_samples * 100"
   ]
  },
  {
   "cell_type": "code",
   "execution_count": 25,
   "metadata": {
    "ExecuteTime": {
     "end_time": "2019-07-31T05:14:43.917305Z",
     "start_time": "2019-07-31T05:14:43.840161Z"
    },
    "colab": {
     "base_uri": "https://localhost:8080/",
     "height": 35
    },
    "colab_type": "code",
    "executionInfo": {
     "elapsed": 51316,
     "status": "ok",
     "timestamp": 1563405632670,
     "user": {
      "displayName": "Andrey Lyubonko",
      "photoUrl": "",
      "userId": "14195748931596322145"
     },
     "user_tz": -180
    },
    "id": "nWOLHYHSUkDL",
    "outputId": "5ad52dc6-e82e-48fb-89a7-d911e85d137b"
   },
   "outputs": [
    {
     "name": "stdout",
     "output_type": "stream",
     "text": [
      "Train accuracy: 92.698413\n"
     ]
    }
   ],
   "source": [
    "y_train_predict = np.zeros(n_train)\n",
    "for i in range(n_train):\n",
    "    y_train_predict[i] = predict(dataX_train[i], w1, b1, w2, b2)\n",
    "\n",
    "print(\"Train accuracy: %f\" % get_accuracy(y_train_predict, dataY_train))"
   ]
  },
  {
   "cell_type": "markdown",
   "metadata": {
    "colab_type": "text",
    "id": "QXY0TXHoUkDO"
   },
   "source": [
    "<font color=\"red\"> **[PROBLEM IV]**: </font>   \n",
    "<font color=\"red\"> Calculate accuracy on the test set </font>"
   ]
  },
  {
   "cell_type": "code",
   "execution_count": 26,
   "metadata": {
    "ExecuteTime": {
     "end_time": "2019-07-31T05:14:43.966856Z",
     "start_time": "2019-07-31T05:14:43.919087Z"
    }
   },
   "outputs": [
    {
     "name": "stdout",
     "output_type": "stream",
     "text": [
      "Test accuracy: 91.111111\n"
     ]
    }
   ],
   "source": [
    "y_test_predict = np.zeros(n_test)\n",
    "for i in range(n_test):\n",
    "    y_test_predict[i] = predict(dataX_test[i], w1, b1, w2, b2)\n",
    "\n",
    "print(\"Test accuracy: %f\" % get_accuracy(y_test_predict, dataY_test))"
   ]
  },
  {
   "cell_type": "code",
   "execution_count": 27,
   "metadata": {
    "ExecuteTime": {
     "end_time": "2019-07-31T05:14:43.996673Z",
     "start_time": "2019-07-31T05:14:43.968836Z"
    },
    "colab": {
     "base_uri": "https://localhost:8080/",
     "height": 35
    },
    "colab_type": "code",
    "executionInfo": {
     "elapsed": 829,
     "status": "ok",
     "timestamp": 1563405945363,
     "user": {
      "displayName": "Andrey Lyubonko",
      "photoUrl": "",
      "userId": "14195748931596322145"
     },
     "user_tz": -180
    },
    "id": "h_JSf4NcUkDP",
    "outputId": "000bc19c-f36d-44d6-96fb-c20dd8881fd9"
   },
   "outputs": [],
   "source": [
    "#YOUR CODE HERE"
   ]
  },
  {
   "cell_type": "markdown",
   "metadata": {
    "colab_type": "text",
    "id": "1fPujWJSUkDR"
   },
   "source": [
    "* Visualize decision boundary"
   ]
  },
  {
   "cell_type": "code",
   "execution_count": 28,
   "metadata": {
    "ExecuteTime": {
     "end_time": "2019-07-31T05:14:45.291814Z",
     "start_time": "2019-07-31T05:14:43.998320Z"
    },
    "colab": {
     "base_uri": "https://localhost:8080/",
     "height": 353
    },
    "colab_type": "code",
    "executionInfo": {
     "elapsed": 51284,
     "status": "ok",
     "timestamp": 1563405632672,
     "user": {
      "displayName": "Andrey Lyubonko",
      "photoUrl": "",
      "userId": "14195748931596322145"
     },
     "user_tz": -180
    },
    "id": "qg0G8AhXUkDR",
    "outputId": "0ae13449-8de7-4a83-b9fc-05aab8a66f37"
   },
   "outputs": [
    {
     "data": {
      "image/png": "[encoded data removed]",
      "text/plain": [
       "<Figure size 720x360 with 1 Axes>"
      ]
     },
     "metadata": {
      "needs_background": "light"
     },
     "output_type": "display_data"
    }
   ],
   "source": [
    "Nspace = 100\n",
    "x1space = np.linspace(-9, 9, Nspace)\n",
    "x2space = np.linspace(-5, 12, Nspace)\n",
    "X,Y = np.meshgrid(x1space, x2space)\n",
    "\n",
    "Z = np.zeros((Nspace,Nspace))\n",
    "for i in range(Nspace):\n",
    "    for j in range(Nspace):\n",
    "        x1 = x1space[j]\n",
    "        y1 = x2space[i]\n",
    "        x = np.array([x1,y1])\n",
    "        Z[i,j] = predict(x, w1, b1, w2, b2)\n",
    "\n",
    "plt.figure(figsize=(10,5))\n",
    "plt.pcolor(X, Y, Z, vmin=abs(Z).min(), vmax=abs(Z).max())\n",
    "\n",
    "plt.xlabel('feature #1')\n",
    "plt.ylabel('feature #2')\n",
    "plt.xlim(-9, 9)\n",
    "plt.ylim(-5, 12);"
   ]
  },
  {
   "cell_type": "markdown",
   "metadata": {
    "colab_type": "text",
    "id": "QgUtCc5dUkDV"
   },
   "source": [
    "## Two-layer Network, again ...  (with nn package) \n",
    "\n",
    "$$x_{hidden} = RELU(x  \\cdot W_1 + b_1)$$\n",
    "$$y_{pred} = x_{hidden} \\cdot W_2 + b_2$$"
   ]
  },
  {
   "cell_type": "markdown",
   "metadata": {
    "colab_type": "text",
    "id": "a5dNWjSAUkDV"
   },
   "source": [
    "After some hard work we will use torch with all its power and elegance.  "
   ]
  },
  {
   "cell_type": "markdown",
   "metadata": {
    "colab_type": "text",
    "id": "AtPNVmOUUkDW"
   },
   "source": [
    "* Model"
   ]
  },
  {
   "cell_type": "code",
   "execution_count": 29,
   "metadata": {
    "ExecuteTime": {
     "end_time": "2019-07-31T05:14:45.321618Z",
     "start_time": "2019-07-31T05:14:45.293810Z"
    },
    "colab": {},
    "colab_type": "code",
    "id": "qgAnFXS2Zz_V"
   },
   "outputs": [],
   "source": [
    "class Net(nn.Module):\n",
    "  \n",
    "  def __init__(self, dim_in, dim_hidden, dim_out):\n",
    "    super(Net, self).__init__()\n",
    "    self.fc1 = nn.Linear(dim_in, dim_hidden)\n",
    "    self.fc2 = nn.Linear(dim_hidden, dim_out)\n",
    "    \n",
    "  def forward(self, x):\n",
    "    x = self.fc2(F.relu(self.fc1(x)))\n",
    "    return x"
   ]
  },
  {
   "cell_type": "code",
   "execution_count": 30,
   "metadata": {
    "ExecuteTime": {
     "end_time": "2019-07-31T05:14:45.353133Z",
     "start_time": "2019-07-31T05:14:45.323391Z"
    },
    "colab": {},
    "colab_type": "code",
    "id": "PW3AQyDnUkDa"
   },
   "outputs": [],
   "source": [
    "model = Net(dim_in, dim_hidden, dim_out)"
   ]
  },
  {
   "cell_type": "markdown",
   "metadata": {
    "colab_type": "text",
    "id": "AJY2KW22UkDc"
   },
   "source": [
    "* Loss (we will use cross-entropy loss)"
   ]
  },
  {
   "cell_type": "code",
   "execution_count": 31,
   "metadata": {
    "ExecuteTime": {
     "end_time": "2019-07-31T05:14:45.379611Z",
     "start_time": "2019-07-31T05:14:45.354685Z"
    },
    "colab": {},
    "colab_type": "code",
    "id": "O0JWFwx7UkDd"
   },
   "outputs": [],
   "source": [
    "criterion = nn.CrossEntropyLoss()"
   ]
  },
  {
   "cell_type": "code",
   "execution_count": 32,
   "metadata": {
    "ExecuteTime": {
     "end_time": "2019-07-31T05:14:45.407619Z",
     "start_time": "2019-07-31T05:14:45.381191Z"
    },
    "colab": {},
    "colab_type": "code",
    "id": "6CAjIBGWUkDf"
   },
   "outputs": [],
   "source": [
    "# input \n",
    "x = torch.from_numpy(dataX_train).type(dtype_torch)\n",
    "y = torch.from_numpy(dataY_train).type(torch.LongTensor)"
   ]
  },
  {
   "cell_type": "code",
   "execution_count": 33,
   "metadata": {
    "ExecuteTime": {
     "end_time": "2019-07-31T05:14:45.434875Z",
     "start_time": "2019-07-31T05:14:45.409158Z"
    },
    "colab": {},
    "colab_type": "code",
    "id": "ZG-zxJaFUkDh"
   },
   "outputs": [],
   "source": [
    "learning_rate = 1e-2\n",
    "n_iteration = 1000"
   ]
  },
  {
   "cell_type": "code",
   "execution_count": 34,
   "metadata": {
    "ExecuteTime": {
     "end_time": "2019-07-31T05:14:46.423195Z",
     "start_time": "2019-07-31T05:14:45.436547Z"
    },
    "colab": {
     "base_uri": "https://localhost:8080/",
     "height": 197
    },
    "colab_type": "code",
    "executionInfo": {
     "elapsed": 52649,
     "status": "ok",
     "timestamp": 1563405634070,
     "user": {
      "displayName": "Andrey Lyubonko",
      "photoUrl": "",
      "userId": "14195748931596322145"
     },
     "user_tz": -180
    },
    "id": "Yt1TewKOUkDk",
    "outputId": "c80b6060-ee0e-4f7b-de46-f76dd2327eb3"
   },
   "outputs": [
    {
     "name": "stdout",
     "output_type": "stream",
     "text": [
      "0 1.1708242893218994\n",
      "100 0.31806641817092896\n",
      "200 0.2541128396987915\n",
      "300 0.22331269085407257\n",
      "400 0.20437169075012207\n",
      "500 0.19137051701545715\n",
      "600 0.18183647096157074\n",
      "700 0.17453409731388092\n",
      "800 0.16876675188541412\n",
      "900 0.1641053408384323\n"
     ]
    }
   ],
   "source": [
    "logger = {}\n",
    "logger['iteration'] = []\n",
    "logger['loss_iteration'] = []\n",
    "\n",
    "for t in range(n_iteration):  \n",
    "    \n",
    "    # forward pass\n",
    "    y_pred = model(x)\n",
    "    \n",
    "    # compute loss\n",
    "    loss = criterion(y_pred, y)\n",
    "\n",
    "    # backprop\n",
    "    loss.backward()\n",
    "\n",
    "    # update weights using gradient descent  \n",
    "    for param in model.parameters():\n",
    "        param.data -= learning_rate * param.grad.data \n",
    "    \n",
    "    # manually zero the gradients\n",
    "    model.zero_grad()  \n",
    "    \n",
    "    # reporting & logging       \n",
    "    if t % 100 == 0:\n",
    "        print(t, loss.item())\n",
    "        \n",
    "    logger['iteration'] += [t]\n",
    "    logger['loss_iteration'] += [loss.item()]"
   ]
  },
  {
   "cell_type": "code",
   "execution_count": 35,
   "metadata": {
    "ExecuteTime": {
     "end_time": "2019-07-31T05:14:46.682772Z",
     "start_time": "2019-07-31T05:14:46.425598Z"
    },
    "colab": {
     "base_uri": "https://localhost:8080/",
     "height": 353
    },
    "colab_type": "code",
    "executionInfo": {
     "elapsed": 53221,
     "status": "ok",
     "timestamp": 1563405634656,
     "user": {
      "displayName": "Andrey Lyubonko",
      "photoUrl": "",
      "userId": "14195748931596322145"
     },
     "user_tz": -180
    },
    "id": "loaofwicUkDo",
    "outputId": "7ecfa2f6-cb22-4372-ed67-c970e1e646cb"
   },
   "outputs": [
    {
     "data": {
      "image/png": "[encoded data removed]",
      "text/plain": [
       "<Figure size 720x360 with 1 Axes>"
      ]
     },
     "metadata": {
      "needs_background": "light"
     },
     "output_type": "display_data"
    }
   ],
   "source": [
    "# visualize loss\n",
    "plt.figure(figsize=(10,5))\n",
    "plt.plot(logger['iteration'], logger['loss_iteration'],'ob', label=\"loss\")\n",
    "\n",
    "plt.xlabel('iteration')\n",
    "plt.ylabel('loss');"
   ]
  },
  {
   "cell_type": "code",
   "execution_count": 36,
   "metadata": {
    "ExecuteTime": {
     "end_time": "2019-07-31T05:14:46.712964Z",
     "start_time": "2019-07-31T05:14:46.684544Z"
    },
    "colab": {},
    "colab_type": "code",
    "id": "AE7MW8OoUkDq"
   },
   "outputs": [],
   "source": [
    "def predict(x, model):\n",
    "    \"\"\"\n",
    "    Prediction based on two-layer model\n",
    "    \n",
    "    Args:\n",
    "        x (numpy.array): feature vector of a sample\n",
    "         \n",
    "    Returns:\n",
    "        scalar: predicted class for this sample\n",
    "    \"\"\"    \n",
    "    t = torch.from_numpy(x).type(dtype_torch)\n",
    "    forward_pass = model(t)\n",
    "    return np.argmax(forward_pass.data.numpy(), axis=1)"
   ]
  },
  {
   "cell_type": "code",
   "execution_count": 37,
   "metadata": {
    "ExecuteTime": {
     "end_time": "2019-07-31T05:14:46.746514Z",
     "start_time": "2019-07-31T05:14:46.714525Z"
    },
    "colab": {
     "base_uri": "https://localhost:8080/",
     "height": 53
    },
    "colab_type": "code",
    "executionInfo": {
     "elapsed": 53210,
     "status": "ok",
     "timestamp": 1563405634661,
     "user": {
      "displayName": "Andrey Lyubonko",
      "photoUrl": "",
      "userId": "14195748931596322145"
     },
     "user_tz": -180
    },
    "id": "YvjiWaxTUkDs",
    "outputId": "94a6a695-26d6-4489-a413-df45aa513132"
   },
   "outputs": [
    {
     "name": "stdout",
     "output_type": "stream",
     "text": [
      "Train accuracy: 95.238095\n",
      "Test accuracy: 95.925926\n"
     ]
    }
   ],
   "source": [
    "y_train_predict = predict(dataX_train,model)\n",
    "print(\"Train accuracy: %f\" % get_accuracy(y_train_predict, dataY_train))\n",
    "\n",
    "y_test_predict = predict(dataX_test, model)\n",
    "print(\"Test accuracy: %f\" % get_accuracy(y_test_predict, dataY_test))"
   ]
  },
  {
   "cell_type": "markdown",
   "metadata": {
    "colab": {},
    "colab_type": "code",
    "collapsed": true,
    "id": "yBs1uv1CUkD-"
   },
   "source": [
    "<font color=\"red\"> **[PROBLEM V]**: </font>   \n",
    "<font color=\"red\"> Try to implement & test network from DL course using pytorch and this toy dataset.\n",
    "\n",
    " </font>  \n",
    " \n",
    "![tensor](https://drive.google.com/uc?id=1CteXB_bD36LzsopgIQRJymYMGdYq_ZL3)"
   ]
  },
  {
   "cell_type": "code",
   "execution_count": 38,
   "metadata": {
    "ExecuteTime": {
     "end_time": "2019-07-31T05:14:46.781965Z",
     "start_time": "2019-07-31T05:14:46.748522Z"
    }
   },
   "outputs": [],
   "source": [
    "# https://medium.com/coinmonks/create-a-neural-network-in-pytorch-and-make-your-life-simpler-ec5367895199\n",
    "\n",
    "model = nn.Sequential(nn.Linear(dim_in, dim_hidden),\n",
    "                     nn.ReLU(),\n",
    "                     nn.Linear(dim_hidden, dim_out))\n",
    "\n",
    "criterion = nn.CrossEntropyLoss()\n",
    "optimizer = torch.optim.SGD(model.parameters(), lr=learning_rate)"
   ]
  },
  {
   "cell_type": "code",
   "execution_count": 39,
   "metadata": {
    "ExecuteTime": {
     "end_time": "2019-07-31T05:14:47.630901Z",
     "start_time": "2019-07-31T05:14:46.783888Z"
    }
   },
   "outputs": [
    {
     "name": "stdout",
     "output_type": "stream",
     "text": [
      "0 2.0905210971832275\n",
      "100 0.3366064131259918\n",
      "200 0.26737046241760254\n",
      "300 0.23235100507736206\n",
      "400 0.2107696831226349\n",
      "500 0.1961551457643509\n",
      "600 0.18564097583293915\n",
      "700 0.17775438725948334\n",
      "800 0.17164236307144165\n",
      "900 0.16678868234157562\n"
     ]
    }
   ],
   "source": [
    "for epoch in range(n_iteration):\n",
    "    # Forward Propagation\n",
    "    y_pred = model(x)\n",
    "    # Compute and print loss\n",
    "    loss = criterion(y_pred, y)\n",
    "    # Zero the gradients\n",
    "    optimizer.zero_grad()\n",
    "    \n",
    "    # reporting & logging       \n",
    "    if epoch % 100 == 0:\n",
    "        print(epoch, loss.item())\n",
    "    \n",
    "    # perform a backward pass (backpropagation)\n",
    "    loss.backward()\n",
    "    \n",
    "    # Update the parameters\n",
    "    optimizer.step()"
   ]
  },
  {
   "cell_type": "code",
   "execution_count": 40,
   "metadata": {
    "ExecuteTime": {
     "end_time": "2019-07-31T05:14:47.857995Z",
     "start_time": "2019-07-31T05:14:47.634961Z"
    }
   },
   "outputs": [
    {
     "data": {
      "image/png": "[encoded data removed]",
      "text/plain": [
       "<Figure size 720x360 with 1 Axes>"
      ]
     },
     "metadata": {
      "needs_background": "light"
     },
     "output_type": "display_data"
    }
   ],
   "source": [
    "# visualize loss\n",
    "plt.figure(figsize=(10,5))\n",
    "plt.plot(logger['iteration'], logger['loss_iteration'],'ob', label=\"loss\")\n",
    "\n",
    "plt.xlabel('iteration')\n",
    "plt.ylabel('loss');"
   ]
  },
  {
   "cell_type": "code",
   "execution_count": 41,
   "metadata": {
    "ExecuteTime": {
     "end_time": "2019-07-31T05:14:47.889758Z",
     "start_time": "2019-07-31T05:14:47.859930Z"
    }
   },
   "outputs": [
    {
     "name": "stdout",
     "output_type": "stream",
     "text": [
      "Train accuracy: 95.238095\n",
      "Test accuracy: 95.925926\n"
     ]
    }
   ],
   "source": [
    "y_train_predict = predict(dataX_train,model)\n",
    "print(\"Train accuracy: %f\" % get_accuracy(y_train_predict, dataY_train))\n",
    "\n",
    "y_test_predict = predict(dataX_test, model)\n",
    "print(\"Test accuracy: %f\" % get_accuracy(y_test_predict, dataY_test))"
   ]
  },
  {
   "cell_type": "code",
   "execution_count": null,
   "metadata": {},
   "outputs": [],
   "source": []
  }
 ],
 "metadata": {
  "colab": {
   "collapsed_sections": [],
   "name": "a2_simple_network.ipynb",
   "provenance": [],
   "version": "0.3.2"
  },
  "kernelspec": {
   "display_name": "Python 3",
   "language": "python",
   "name": "python3"
  },
  "language_info": {
   "codemirror_mode": {
    "name": "ipython",
    "version": 3
   },
   "file_extension": ".py",
   "mimetype": "text/x-python",
   "name": "python",
   "nbconvert_exporter": "python",
   "pygments_lexer": "ipython3",
   "version": "3.7.3"
  },
  "toc": {
   "base_numbering": 1,
   "nav_menu": {},
   "number_sections": true,
   "sideBar": true,
   "skip_h1_title": false,
   "title_cell": "Table of Contents",
   "title_sidebar": "Contents",
   "toc_cell": false,
   "toc_position": {},
   "toc_section_display": true,
   "toc_window_display": false
  },
  "varInspector": {
   "cols": {
    "lenName": 16,
    "lenType": 16,
    "lenVar": 40
   },
   "kernels_config": {
    "python": {
     "delete_cmd_postfix": "",
     "delete_cmd_prefix": "del ",
     "library": "var_list.py",
     "varRefreshCmd": "print(var_dic_list())"
    },
    "r": {
     "delete_cmd_postfix": ") ",
     "delete_cmd_prefix": "rm(",
     "library": "var_list.r",
     "varRefreshCmd": "cat(var_dic_list()) "
    }
   },
   "types_to_exclude": [
    "module",
    "function",
    "builtin_function_or_method",
    "instance",
    "_Feature"
   ],
   "window_display": false
  }
 },
 "nbformat": 4,
 "nbformat_minor": 1
}
